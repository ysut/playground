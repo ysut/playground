{
 "cells": [
  {
   "cell_type": "code",
   "execution_count": 1,
   "metadata": {},
   "outputs": [],
   "source": [
    "import numpy as np\n",
    "import pandas as pd\n",
    "import cyvcf2"
   ]
  },
  {
   "cell_type": "code",
   "execution_count": 43,
   "metadata": {},
   "outputs": [],
   "source": [
    "class Variant:\n",
    "\t\"\"\"A class to represent a variant\n",
    "\tProperties:\n",
    "\t\tchrom: chromosome\n",
    "\t\tpos: position\n",
    "\t\tref: reference allele\n",
    "\t\talt: alternate allele\n",
    "\t\tgt: genotype\n",
    "\t\tdp: depth\n",
    "\t\tgq: genotype quality\n",
    "\t\tad: allele depth\n",
    "\t\tgt_fa: Father's genotype\n",
    "\t\tgt_mo: Mother's genotype\n",
    "\t\tgt_sib: Sibling's genotype\n",
    "\n",
    "\t\"\"\"\n",
    "\tdef __init__(self, chrom, pos, ref, alt, gt, dp, gq, ad):\n",
    "\t\tself.chrom = chrom\n",
    "\t\tself.pos = pos\n",
    "\t\tself.ref = ref\n",
    "\t\tself.alt = alt\n",
    "\t\tself.gt = gt\n",
    "\t\tself.dp = dp\n",
    "\t\tself.gq = gq\n",
    "\t\tself.ad = ad\n",
    "\n",
    "\tdef maf_filter(self, target: int, threshold: float) -> bool:\n",
    "\t\tif target < threshold:\n",
    "\t\t\treturn True\n",
    "\t\telse:\n",
    "\t\t\treturn False\n",
    "\n",
    "\t\n",
    "class Snv(Variant):\n",
    "\tdef __init__(self, chrom, pos, ref, alt, gt, dp, gq, ad):\n",
    "\t\tsuper().__init__(chrom, pos, ref, alt, gt, dp, gq, ad)\n",
    "\n",
    "class Cnv(Variant):\n",
    "\tdef __init__(self, chrom, pos, ref, alt, gt, dp, gq, ad):\n",
    "\t\tsuper().__init__(chrom, pos, ref, alt, gt, dp, gq, ad)\n",
    "\n",
    "class Missense(Snv):\n",
    "\tdef __init__(self, chrom, pos, ref, alt, gt, dp, gq, ad, gene, aa_change):\n",
    "\t\tsuper().__init__(chrom, pos, ref, alt, gt, dp, gq, ad)\n",
    "\t\tself.gene = gene\n",
    "\t\tself.aa_change = aa_change\n",
    "\t\n",
    "class Synonymous(Snv):\n",
    "\tdef __init__(self, chrom, pos, ref, alt, gt, dp, gq, ad, gene, aa_change):\n",
    "\t\tsuper().__init__(chrom, pos, ref, alt, gt, dp, gq, ad)\n",
    "\t\tself.gene = gene\n",
    "\t\tself.aa_change = aa_change\n",
    "\n",
    "class Nonsense(Snv):\n",
    "\tdef __init__(self, chrom, pos, ref, alt, gt, dp, gq, ad, gene, aa_change):\n",
    "\t\tsuper().__init__(chrom, pos, ref, alt, gt, dp, gq, ad)\n",
    "\t\tself.gene = gene\n",
    "\t\tself.aa_change = aa_change\n",
    "\n"
   ]
  },
  {
   "cell_type": "code",
   "execution_count": 2,
   "metadata": {},
   "outputs": [],
   "source": [
    "input_vcf = \"test_input_vcfs/gnomad.chr21.splai.vep.maxent.loftee.pangolin.squirls.vcf\"\n",
    "vcf = cyvcf2.VCF(input_vcf)\n",
    "header = vcf.header_iter()\n",
    "\n",
    "for h in header:\n",
    "\ttry:\n",
    "\t\th['ID']\n",
    "\texcept KeyError:\n",
    "\t\tcontinue\n",
    "\telse:\n",
    "\t\tif h['ID'] == 'CSQ':\n",
    "\t\t\tvep_cols_list = h['Description'].split('Format: ')[1].rstrip('\"').split('|')\n",
    "\t\telif h['ID'] == 'SpliceAI':\n",
    "\t\t\tsplai_cols_list = h['Description'].split('Format: ')[1].rstrip('\"').split('|')\n",
    "\t\telif h['ID'] == 'Pangolin':\n",
    "\t\t\tpang_cols_list = h['Description'].split('Format: ')[1].rstrip('\"').split('|')\n",
    "\t\telse:\n",
    "\t\t\tpass\n",
    "\n",
    "vepidx: dict = {col: i for i, col in enumerate(vep_cols_list)}\n",
    "splaidx: dict = {col: i for i, col in enumerate(splai_cols_list)}"
   ]
  },
  {
   "cell_type": "code",
   "execution_count": 25,
   "metadata": {},
   "outputs": [
    {
     "data": {
      "text/plain": [
       "{'Allele': 0,\n",
       " 'Consequence': 1,\n",
       " 'IMPACT': 2,\n",
       " 'SYMBOL': 3,\n",
       " 'Gene': 4,\n",
       " 'Feature_type': 5,\n",
       " 'Feature': 6,\n",
       " 'BIOTYPE': 7,\n",
       " 'EXON': 8,\n",
       " 'INTRON': 9,\n",
       " 'HGVSc': 10,\n",
       " 'HGVSp': 11,\n",
       " 'cDNA_position': 12,\n",
       " 'CDS_position': 13,\n",
       " 'Protein_position': 14,\n",
       " 'Amino_acids': 15,\n",
       " 'Codons': 16,\n",
       " 'Existing_variation': 17,\n",
       " 'DISTANCE': 18,\n",
       " 'STRAND': 19,\n",
       " 'FLAGS': 20,\n",
       " 'VARIANT_CLASS': 21,\n",
       " 'SYMBOL_SOURCE': 22,\n",
       " 'HGNC_ID': 23,\n",
       " 'CANONICAL': 24,\n",
       " 'REFSEQ_MATCH': 25,\n",
       " 'SOURCE': 26,\n",
       " 'REFSEQ_OFFSET': 27,\n",
       " 'HGVS_OFFSET': 28,\n",
       " 'MaxEntScan_alt': 29,\n",
       " 'MaxEntScan_diff': 30,\n",
       " 'MaxEntScan_ref': 31,\n",
       " 'LoF': 32,\n",
       " 'LoF_filter': 33,\n",
       " 'LoF_flags': 34,\n",
       " 'LoF_info': 35}"
      ]
     },
     "execution_count": 25,
     "metadata": {},
     "output_type": "execute_result"
    }
   ],
   "source": [
    "vepidx"
   ]
  },
  {
   "cell_type": "code",
   "execution_count": 12,
   "metadata": {},
   "outputs": [
    {
     "ename": "TypeError",
     "evalue": "Variant object cannot be instantiated directly.",
     "output_type": "error",
     "traceback": [
      "\u001b[0;31m---------------------------------------------------------------------------\u001b[0m",
      "\u001b[0;31mTypeError\u001b[0m                                 Traceback (most recent call last)",
      "Cell \u001b[0;32mIn[12], line 21\u001b[0m\n\u001b[1;32m     18\u001b[0m \u001b[38;5;28;01mif\u001b[39;00m i \u001b[38;5;241m>\u001b[39m \u001b[38;5;241m10\u001b[39m:\n\u001b[1;32m     19\u001b[0m \t\u001b[38;5;28;01mbreak\u001b[39;00m\n\u001b[0;32m---> 21\u001b[0m var \u001b[38;5;241m=\u001b[39m \u001b[43mVar\u001b[49m\u001b[43m(\u001b[49m\u001b[43mv\u001b[49m\u001b[43m)\u001b[49m\n\u001b[1;32m     22\u001b[0m \u001b[38;5;66;03m# print(var)\u001b[39;00m\n\u001b[1;32m     23\u001b[0m \u001b[38;5;28mprint\u001b[39m(\u001b[38;5;28mtype\u001b[39m(var))\n",
      "Cell \u001b[0;32mIn[12], line 5\u001b[0m, in \u001b[0;36mVar.__init__\u001b[0;34m(self, v)\u001b[0m\n\u001b[1;32m      4\u001b[0m \u001b[38;5;28;01mdef\u001b[39;00m \u001b[38;5;21m__init__\u001b[39m(\u001b[38;5;28mself\u001b[39m, v):\n\u001b[0;32m----> 5\u001b[0m \t\u001b[38;5;28;43msuper\u001b[39;49m\u001b[43m(\u001b[49m\u001b[43m)\u001b[49m\u001b[38;5;241;43m.\u001b[39;49m\u001b[38;5;21;43m__init__\u001b[39;49m\u001b[43m(\u001b[49m\u001b[43mv\u001b[49m\u001b[43m)\u001b[49m\n\u001b[1;32m      6\u001b[0m \t\u001b[38;5;28mself\u001b[39m\u001b[38;5;241m.\u001b[39mvep \u001b[38;5;241m=\u001b[39m v\u001b[38;5;241m.\u001b[39mINFO\u001b[38;5;241m.\u001b[39mget(\u001b[38;5;124m'\u001b[39m\u001b[38;5;124mCSQ\u001b[39m\u001b[38;5;124m'\u001b[39m)\u001b[38;5;241m.\u001b[39msplit(\u001b[38;5;124m'\u001b[39m\u001b[38;5;124m,\u001b[39m\u001b[38;5;124m'\u001b[39m)\n\u001b[1;32m      7\u001b[0m \t\u001b[38;5;28mself\u001b[39m\u001b[38;5;241m.\u001b[39msplai \u001b[38;5;241m=\u001b[39m v\u001b[38;5;241m.\u001b[39mINFO\u001b[38;5;241m.\u001b[39mget(\u001b[38;5;124m'\u001b[39m\u001b[38;5;124mSpliceAI\u001b[39m\u001b[38;5;124m'\u001b[39m)\u001b[38;5;241m.\u001b[39msplit(\u001b[38;5;124m'\u001b[39m\u001b[38;5;124m,\u001b[39m\u001b[38;5;124m'\u001b[39m)\n",
      "File \u001b[0;32m~/miniforge3/envs/sss/lib/python3.8/site-packages/cyvcf2/cyvcf2.pyx:1193\u001b[0m, in \u001b[0;36mcyvcf2.cyvcf2.Variant.__init__\u001b[0;34m()\u001b[0m\n",
      "\u001b[0;31mTypeError\u001b[0m: Variant object cannot be instantiated directly."
     ]
    }
   ],
   "source": [
    "i = 0\n",
    "\n",
    "class Var(cyvcf2.cyvcf2.Variant):\n",
    "\tdef __init__(self, v):\n",
    "\t\tsuper().__init__(v)\n",
    "\t\tself.vep = v.INFO.get('CSQ').split(',')\n",
    "\t\tself.splai = v.INFO.get('SpliceAI').split(',')\n",
    "\t\tself.pang = v.INFO.get('Pangolin').split(',')\n",
    "\tdef filter_maf(self, target: int, threshold: float) -> bool:\n",
    "\t\tif target < threshold:\n",
    "\t\t\treturn True\n",
    "\t\telse:\n",
    "\t\t\treturn False\n",
    "\n",
    "input_vcf = \"test_input_vcfs/gnomad.chr21.splai.vep.maxent.loftee.pangolin.squirls.vcf\"\n",
    "for v in cyvcf2.VCF(input_vcf):\n",
    "\ti += 1\n",
    "\tif i > 10:\n",
    "\t\tbreak\n",
    "\n",
    "\tvar = Var(v)\n",
    "\t# print(var)\n",
    "\tprint(type(var))\n",
    "\t# print(variant.filter_maf(100, 0.01))\n"
   ]
  },
  {
   "cell_type": "code",
   "execution_count": null,
   "metadata": {},
   "outputs": [],
   "source": [
    "i = 0\n",
    "for v in vcf:\n",
    "\tif i > 3:\n",
    "\t\tbreak\n",
    "\tprint(type(v))"
   ]
  },
  {
   "cell_type": "code",
   "execution_count": 11,
   "metadata": {},
   "outputs": [
    {
     "data": {
      "text/plain": [
       "['gene', 'pos:score_change', 'pos:score_change', 'warnings,...']"
      ]
     },
     "execution_count": 11,
     "metadata": {},
     "output_type": "execute_result"
    }
   ],
   "source": [
    "pang_cols_list"
   ]
  },
  {
   "cell_type": "code",
   "execution_count": null,
   "metadata": {},
   "outputs": [],
   "source": [
    "vep: list = v.INFO.get('CSQ').split('|')\n",
    "\n",
    "# Get SpliceAI scores\n",
    "if v.INFO.get('SpliceAI'):\n",
    "\tsplai: list = v.INFO.get('SpliceAI').split(',')[0].split('|')\n",
    "\tprint(pangolin)\n",
    "else:\n",
    "\tsplai = ['NA'] * len(splai_cols_list)"
   ]
  }
 ],
 "metadata": {
  "kernelspec": {
   "display_name": "sss",
   "language": "python",
   "name": "python3"
  },
  "language_info": {
   "codemirror_mode": {
    "name": "ipython",
    "version": 3
   },
   "file_extension": ".py",
   "mimetype": "text/x-python",
   "name": "python",
   "nbconvert_exporter": "python",
   "pygments_lexer": "ipython3",
   "version": "3.8.20"
  }
 },
 "nbformat": 4,
 "nbformat_minor": 2
}
