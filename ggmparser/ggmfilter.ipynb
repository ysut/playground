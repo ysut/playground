{
 "cells": [
  {
   "cell_type": "code",
   "execution_count": 1,
   "metadata": {},
   "outputs": [],
   "source": [
    "import numpy as np\n",
    "import pandas as pd"
   ]
  },
  {
   "cell_type": "code",
   "execution_count": 2,
   "metadata": {},
   "outputs": [],
   "source": [
    "input_csv = '/Volumes/vol/work/Github/playground/ggmparser/GGM_trio_UBN1.csv'\n",
    "df = pd.read_csv(input_csv, header=0, dtype=str)\n"
   ]
  },
  {
   "cell_type": "code",
   "execution_count": 8,
   "metadata": {},
   "outputs": [
    {
     "data": {
      "text/plain": [
       "Index(['No./242', 'Sample', 'Gene', 'Transcript', 'Impact', 'Effect',\n",
       "       'Distance', 'Amino acid change2', 'SIFT', 'PolyPhen-2',\n",
       "       'MutationTaster', 'CADD', 'alleleID', 'Chr', 'Position', 'Ref', 'Alt',\n",
       "       'GGM(AC/AN)', 'ToMMo3.5K(AC)', 'ToMMo3.5K(AN)', 'ToMMo3.5K(AF)',\n",
       "       'JPNCTL(SC)', 'JPNCTL(SN)', 'ExAC(AC)', 'ExAC(AF)', 'gnomAD(AC)',\n",
       "       'gnomAD(AN)', 'gnomAD(AF)', 'Family', 'Vtype', 'Disease', 'ID(pro)',\n",
       "       'AS(pro)', 'GT(pro)', 'GQ:DP:AD(pro)', 'ID(pat)', 'AS(pat)', 'GT(pat)',\n",
       "       'GQ:DP:AD(pat)', 'ID(mat)', 'AS(mat)', 'GT(mat)', 'GQ:DP:AD(mat)',\n",
       "       'Analysis status', 'Identified gene', 'Variant description', 'GQ(pro)',\n",
       "       'DP(pro)', 'AD(pro)', 'GQ(pat)', 'DP(pat)', 'AD(pat)', 'GQ(mat)',\n",
       "       'DP(mat)', 'AD(mat)'],\n",
       "      dtype='object')"
      ]
     },
     "execution_count": 8,
     "metadata": {},
     "output_type": "execute_result"
    }
   ],
   "source": [
    "df.columns"
   ]
  },
  {
   "cell_type": "code",
   "execution_count": 6,
   "metadata": {},
   "outputs": [],
   "source": [
    "def split_qc_col(df: pd.DataFrame) -> pd.DataFrame:\n",
    "    for rel in ['pro', 'pat', 'mat']:\n",
    "        df = pd.concat(\n",
    "            [df, df[f'GQ:DP:AD({rel})'].str.split(':', expand=True)], axis=1)\n",
    "        for i in range(3):\n",
    "            df[i] = df[i].replace('.', np.nan)\n",
    "            df[i] = df[i].replace('-', np.nan)\n",
    "        df = df.astype({0: float, 1: float, 2: float})\n",
    "        df.rename(columns={0: f'GQ({rel})', 1: f'DP({rel})', 2: f'AD({rel})'}, \n",
    "                inplace=True)\n",
    "    return df\n",
    "\n",
    "def maf_filter(df: pd.DataFrame, th: float) -> pd.DataFrame:\n",
    "    df.loc[((df['ToMMo3.5K(AF)'] < th)  \n",
    "            & (df[('ToMMo3.5K(AF)')].notna())), \n",
    "           'ToMMo3.5K(AF)'] = np.nan\n",
    "    \n",
    "    \n",
    "    return df"
   ]
  },
  {
   "cell_type": "code",
   "execution_count": 9,
   "metadata": {},
   "outputs": [
    {
     "data": {
      "text/plain": [
       "ToMMo3.5K(AF)\n",
       "-         126\n",
       "0.0001     68\n",
       "0.0004      7\n",
       "0.001       7\n",
       "0.0007      6\n",
       "0.0034      5\n",
       "0.0019      5\n",
       "0.0009      4\n",
       "0.0003      3\n",
       "0.0006      2\n",
       "0.0008      2\n",
       "0.0022      2\n",
       "0.0027      2\n",
       "0.0017      1\n",
       "0.0002      1\n",
       "0.0021      1\n",
       "Name: count, dtype: int64"
      ]
     },
     "execution_count": 9,
     "metadata": {},
     "output_type": "execute_result"
    }
   ],
   "source": [
    "df['ToMMo3.5K(AF)'].value_counts()"
   ]
  }
 ],
 "metadata": {
  "kernelspec": {
   "display_name": "wesanno",
   "language": "python",
   "name": "python3"
  },
  "language_info": {
   "codemirror_mode": {
    "name": "ipython",
    "version": 3
   },
   "file_extension": ".py",
   "mimetype": "text/x-python",
   "name": "python",
   "nbconvert_exporter": "python",
   "pygments_lexer": "ipython3",
   "version": "3.9.18"
  }
 },
 "nbformat": 4,
 "nbformat_minor": 2
}
