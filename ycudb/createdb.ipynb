{
 "cells": [
  {
   "cell_type": "code",
   "execution_count": 10,
   "metadata": {},
   "outputs": [],
   "source": [
    "import numpy as np\n",
    "import pandas as pd\n",
    "import sqlite3\n",
    "import glob"
   ]
  },
  {
   "cell_type": "code",
   "execution_count": 48,
   "metadata": {},
   "outputs": [],
   "source": [
    "### Load sqlite3 database\n",
    "ycu_db = 'db/ycudb.db'\n",
    "\n",
    "## Find the old excel file and the latest excel file\n",
    "old_excel = glob.glob('rawdata/2004*.xlsx')[0]\n",
    "new_excel = glob.glob('rawdata/自動報告書*')[0]\n",
    "post_excel = glob.glob('rawdata/郵送*')[0]\n"
   ]
  },
  {
   "cell_type": "code",
   "execution_count": 50,
   "metadata": {},
   "outputs": [
    {
     "name": "stderr",
     "output_type": "stream",
     "text": [
      "/Users/utsu/miniforge3/envs/testenv/lib/python3.9/site-packages/openpyxl/worksheet/_read_only.py:81: UserWarning: Data Validation extension is not supported and will be removed\n",
      "  for idx, row in parser.parse():\n",
      "/Users/utsu/miniforge3/envs/testenv/lib/python3.9/site-packages/openpyxl/worksheet/_read_only.py:81: UserWarning: Data Validation extension is not supported and will be removed\n",
      "  for idx, row in parser.parse():\n"
     ]
    }
   ],
   "source": [
    "usecols_new = ['Date', 'YCU ID', 'DNA ID', '病名', 'State', 'WES batch', \n",
    "               '家族関係', 'father DNA ID', 'mother DNA ID', 'Proband_DNA_ID']\n",
    "\n",
    "usecols_old = ['Date', 'YCU ID', 'DNA ID', '病名', 'WES batch', \n",
    "               '家族関係', 'father DNA ID', 'mother DNA ID', 'Proband_DNA_ID']\n",
    "\n",
    "usecols_post = ['検体拝受日', 'YCUID', 'DNAID', '診断名', 'State', \n",
    "                '解析結果(遺伝子名)'\n",
    "    \n",
    "    \n",
    "    'Date', 'YCU ID', 'DNA ID', '病名', 'WES batch', \n",
    "               '家族関係', 'father DNA ID', 'mother DNA ID', 'Proband_DNA_ID']\n",
    "\n",
    "df = pd.read_excel(new_excel, sheet_name='database', \n",
    "                   index_col=None, skiprows=3, usecols=usecols_new)\n",
    "df = df[usecols_new]\n",
    "\n",
    "df_old = pd.read_excel(old_excel, index_col=None, usecols=usecols_old)\n",
    "df = df[usecols_old]\n",
    "\n",
    "df_post = pd.read_excel(post_excel, index_col=None, usecols=usecols_post)"
   ]
  },
  {
   "cell_type": "code",
   "execution_count": 51,
   "metadata": {},
   "outputs": [
    {
     "data": {
      "text/plain": [
       "Index(['Date', 'YCU ID', 'DNA ID', '病名', 'father DNA ID', 'mother DNA ID',\n",
       "       'Proband_DNA_ID', '家族関係', 'WES batch'],\n",
       "      dtype='object')"
      ]
     },
     "execution_count": 51,
     "metadata": {},
     "output_type": "execute_result"
    }
   ],
   "source": [
    "df_old.columns"
   ]
  },
  {
   "cell_type": "code",
   "execution_count": 43,
   "metadata": {},
   "outputs": [],
   "source": [
    "conn = sqlite3.connect(ycu_db)"
   ]
  },
  {
   "cell_type": "code",
   "execution_count": 44,
   "metadata": {},
   "outputs": [],
   "source": [
    "# To sqlite database (If exists, replace)\n",
    "df.to_sql('new_samples', conn, if_exists='replace', index=False)\n",
    "df_old.to_sql('old_samples', conn, if_exists='replace', index=False)\n",
    "df_post.to_sql('post_samples', conn, if_exists='replace', index=False)\n",
    "\n",
    "# 接続を閉じる\n",
    "conn.close()"
   ]
  },
  {
   "cell_type": "code",
   "execution_count": 45,
   "metadata": {},
   "outputs": [],
   "source": [
    "conn = sqlite3.connect(ycu_db)"
   ]
  },
  {
   "cell_type": "code",
   "execution_count": 47,
   "metadata": {},
   "outputs": [
    {
     "name": "stdout",
     "output_type": "stream",
     "text": [
      "('2023-12-27 00:00:00', '231694', None, '両側上腕_肩甲周囲筋の筋力低下あり_顔面肩甲上腕型筋ジストロフィー疑い', None, None, None, None, None, None)\n"
     ]
    }
   ],
   "source": [
    "ycu_id = '231694'\n",
    "query = \"SELECT * FROM ycu_samples WHERE `YCU ID` = ?\"\n",
    "cursor = conn.cursor()\n",
    "cursor.execute(query, (ycu_id,))\n",
    "\n",
    "# 結果を取得して表示\n",
    "results = cursor.fetchall()\n",
    "for row in results:\n",
    "    print(row)\n"
   ]
  },
  {
   "cell_type": "code",
   "execution_count": null,
   "metadata": {},
   "outputs": [],
   "source": []
  }
 ],
 "metadata": {
  "kernelspec": {
   "display_name": "testenv",
   "language": "python",
   "name": "python3"
  },
  "language_info": {
   "codemirror_mode": {
    "name": "ipython",
    "version": 3
   },
   "file_extension": ".py",
   "mimetype": "text/x-python",
   "name": "python",
   "nbconvert_exporter": "python",
   "pygments_lexer": "ipython3",
   "version": "3.9.18"
  }
 },
 "nbformat": 4,
 "nbformat_minor": 2
}
