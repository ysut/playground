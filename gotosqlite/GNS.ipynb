{
 "cells": [
  {
   "cell_type": "code",
   "execution_count": 6,
   "metadata": {},
   "outputs": [],
   "source": [
    "import pandas as pd\n",
    "import numpy as np"
   ]
  },
  {
   "cell_type": "code",
   "execution_count": 7,
   "metadata": {},
   "outputs": [],
   "source": [
    "ggmfile = '/Users/utsu/Downloads/trio.csv'\n",
    "df = pd.read_csv(ggmfile, header=0, sep=',', index_col=0)"
   ]
  },
  {
   "cell_type": "code",
   "execution_count": 8,
   "metadata": {},
   "outputs": [],
   "source": [
    "for i, q in enumerate(['GQ', 'DP', 'AD']):\n",
    "    df[q] = df['GQ:DP:AD(pro)'].str.split(':').str[i]\n",
    "\n",
    "df = df.drop('GQ:DP:AD(pro)', axis=1)\n",
    "df = df.astype({'GQ': 'int32', 'DP': 'int32', 'AD': 'int32'})\n",
    "df = df.loc[df['GQ'] > 20]\n",
    "df = df.loc[df['Identified gene'] == '-']\n",
    "df['DNA_ID'] = df['Sample'].str.split('_').str[1]"
   ]
  },
  {
   "cell_type": "code",
   "execution_count": 9,
   "metadata": {},
   "outputs": [],
   "source": [
    "df = df[[\n",
    "    'DNA_ID', 'Disease',\n",
    "    'Chr', 'Position', 'Ref', 'Alt',\n",
    "    'Gene', 'Transcript', 'Amino acid change2',\n",
    "    'Impact', 'Effect', 'Distance',\n",
    "    'SIFT', 'PolyPhen-2', 'MutationTaster', 'CADD',\n",
    "    'GGM(AC/AN)', 'ToMMo3.5K(AF)', 'JPNCTL(SC)', 'JPNCTL(SN)', 'ExAC(AF)', 'gnomAD(AF)',\n",
    "    'alleleID', 'DP', 'GQ', 'AD',\n",
    "    'Family', 'Vtype',\n",
    "    'ID(pro)', 'AS(pro)', 'GT(pro)', 'ID(pat)', 'AS(pat)', 'GT(pat)',\n",
    "    'GQ:DP:AD(pat)',\n",
    "    'ID(mat)', 'AS(mat)', 'GT(mat)', 'GQ:DP:AD(mat)',\n",
    "    'Analysis status', 'Variant description',\n",
    "    ]]\n",
    "\n",
    "df  = df.sort_values('DNA_ID')\n",
    "\n",
    "df = df.rename(columns={'Chr': 'CHROM', 'Position': 'POS', 'Ref': 'REF', 'Alt': 'ALT'})"
   ]
  },
  {
   "cell_type": "code",
   "execution_count": 10,
   "metadata": {},
   "outputs": [],
   "source": [
    "df.to_excel('/Users/utsu/Downloads/trio_filtered.xlsx')"
   ]
  },
  {
   "cell_type": "code",
   "execution_count": null,
   "metadata": {},
   "outputs": [],
   "source": []
  }
 ],
 "metadata": {
  "kernelspec": {
   "display_name": "wesanno",
   "language": "python",
   "name": "python3"
  },
  "language_info": {
   "codemirror_mode": {
    "name": "ipython",
    "version": 3
   },
   "file_extension": ".py",
   "mimetype": "text/x-python",
   "name": "python",
   "nbconvert_exporter": "python",
   "pygments_lexer": "ipython3",
   "version": "3.9.18"
  }
 },
 "nbformat": 4,
 "nbformat_minor": 2
}
