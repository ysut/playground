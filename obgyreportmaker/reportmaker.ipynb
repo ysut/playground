{
 "cells": [
  {
   "cell_type": "code",
   "execution_count": null,
   "metadata": {},
   "outputs": [],
   "source": []
  },
  {
   "cell_type": "markdown",
   "metadata": {},
   "source": [
    "No\t診療日\t年齢\t性別\t診断名\t検査・処置・投薬など\t転帰\t診療施設名\t担当医/指導医\n",
    "サンプル\t2022/7/1\t21\t女性\t診断１\t検査\t治癒\t日産婦病院\t日産婦　太郎"
   ]
  },
  {
   "cell_type": "code",
   "execution_count": null,
   "metadata": {},
   "outputs": [],
   "source": [
    "columns = [['No', 'Date', 'Age', 'ForM', 'Diagnosis', 'Procedure', 'Outcome', 'Clnician']]"
   ]
  },
  {
   "cell_type": "code",
   "execution_count": null,
   "metadata": {},
   "outputs": [],
   "source": []
  }
 ],
 "metadata": {
  "language_info": {
   "name": "python"
  }
 },
 "nbformat": 4,
 "nbformat_minor": 2
}
