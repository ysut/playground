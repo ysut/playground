{
 "cells": [
  {
   "cell_type": "code",
   "execution_count": null,
   "metadata": {},
   "outputs": [],
   "source": [
    "import sys\n",
    "import pandas as pd\n",
    "import pathlib\n",
    "import glob\n",
    "from collections import namedtuple\n",
    "\n",
    "from libs.modednaids import ModeDNAIDs\n",
    "\n",
    "inputFile = '/work/Github/TestData/proband/32741_DrItoHamamatsu/annovar/exome_summary.20230803_114959.txt'\n",
    "\n",
    "df = pd.read_table(inputFile, header=0, dtype=str)\n",
    "args = {'mode': 'auto',\n",
    "        'samples': 32741}"
   ]
  },
  {
   "cell_type": "code",
   "execution_count": null,
   "metadata": {},
   "outputs": [
    {
     "ename": "NameError",
     "evalue": "name 'format_index' is not defined",
     "output_type": "error",
     "traceback": [
      "\u001b[0;31m---------------------------------------------------------------------------\u001b[0m",
      "\u001b[0;31mNameError\u001b[0m                                 Traceback (most recent call last)",
      "\u001b[1;32m/work/Github/wesanno/wesanno/cli.ipynb Cell 2\u001b[0m line \u001b[0;36m1\n\u001b[0;32m----> <a href='vscode-notebook-cell://attached-container%2B7b22636f6e7461696e65724e616d65223a222f696e73706972696e675f6c616c616e6465222c2273657474696e6773223a7b22636f6e74657874223a226465736b746f702d6c696e7578227d7d/work/Github/wesanno/wesanno/cli.ipynb#W1sdnNjb2RlLXJlbW90ZQ%3D%3D?line=0'>1</a>\u001b[0m columns_after_format \u001b[39m=\u001b[39m df\u001b[39m.\u001b[39mcolumns[format_index\u001b[39m+\u001b[39m\u001b[39m1\u001b[39m:]\u001b[39m.\u001b[39mtolist()\n\u001b[1;32m      <a href='vscode-notebook-cell://attached-container%2B7b22636f6e7461696e65724e616d65223a222f696e73706972696e675f6c616c616e6465222c2273657474696e6773223a7b22636f6e74657874223a226465736b746f702d6c696e7578227d7d/work/Github/wesanno/wesanno/cli.ipynb#W1sdnNjb2RlLXJlbW90ZQ%3D%3D?line=1'>2</a>\u001b[0m \u001b[39mprint\u001b[39m(\u001b[39mtype\u001b[39m(columns_after_format))\n",
      "\u001b[0;31mNameError\u001b[0m: name 'format_index' is not defined"
     ]
    }
   ],
   "source": [
    "format_index = df.columns.get_loc('FORMAT')\n",
    "columns_after_format = df.columns[format_index+1:].tolist()\n",
    "print(type(columns_after_format))"
   ]
  },
  {
   "cell_type": "code",
   "execution_count": 4,
   "metadata": {},
   "outputs": [],
   "source": [
    "modednaids = ModeDNAIDs(df, args)\n",
    "mode_dnaids_info = modednaids.get_mode_dnaids_info()"
   ]
  },
  {
   "cell_type": "code",
   "execution_count": 5,
   "metadata": {},
   "outputs": [
    {
     "name": "stdout",
     "output_type": "stream",
     "text": [
      "proband\n",
      "Sample_32741\n"
     ]
    }
   ],
   "source": [
    "print(mode_dnaids_info.mode)\n",
    "print(mode_dnaids_info.proband_id)"
   ]
  },
  {
   "cell_type": "code",
   "execution_count": 22,
   "metadata": {},
   "outputs": [],
   "source": [
    "class ModeDNAIDsInfo(NamedTuple):\n",
    "    mode: str = 'auto'\n",
    "    proband_id: str = None\n",
    "    father_id: str = None\n",
    "    mother_id: str = None\n",
    "    sibling_id: str = None\n",
    "    parent_id: str = None\n",
    "\n",
    "modednaidsinfo = ModeDNAIDsInfo(mode='proband')"
   ]
  },
  {
   "cell_type": "code",
   "execution_count": 24,
   "metadata": {},
   "outputs": [
    {
     "name": "stdout",
     "output_type": "stream",
     "text": [
      "None\n"
     ]
    }
   ],
   "source": [
    "print(modednaidsinfo.sibling_id)"
   ]
  }
 ],
 "metadata": {
  "kernelspec": {
   "display_name": "wesanno",
   "language": "python",
   "name": "python3"
  },
  "language_info": {
   "codemirror_mode": {
    "name": "ipython",
    "version": 3
   },
   "file_extension": ".py",
   "mimetype": "text/x-python",
   "name": "python",
   "nbconvert_exporter": "python",
   "pygments_lexer": "ipython3",
   "version": "3.10.13"
  }
 },
 "nbformat": 4,
 "nbformat_minor": 2
}
